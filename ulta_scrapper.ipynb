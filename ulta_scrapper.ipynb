{
 "cells": [
  {
   "cell_type": "code",
   "execution_count": 103,
   "metadata": {
    "collapsed": false
   },
   "outputs": [
    {
     "name": "stdout",
     "output_type": "stream",
     "text": [
      "['', 'C:\\\\ProgramData\\\\Anaconda3\\\\python36.zip', 'C:\\\\ProgramData\\\\Anaconda3\\\\DLLs', 'C:\\\\ProgramData\\\\Anaconda3\\\\lib', 'C:\\\\ProgramData\\\\Anaconda3', 'C:\\\\ProgramData\\\\Anaconda3\\\\lib\\\\site-packages', 'C:\\\\ProgramData\\\\Anaconda3\\\\lib\\\\site-packages\\\\Sphinx-1.5.1-py3.6.egg', 'C:\\\\ProgramData\\\\Anaconda3\\\\lib\\\\site-packages\\\\win32', 'C:\\\\ProgramData\\\\Anaconda3\\\\lib\\\\site-packages\\\\win32\\\\lib', 'C:\\\\ProgramData\\\\Anaconda3\\\\lib\\\\site-packages\\\\Pythonwin', 'C:\\\\ProgramData\\\\Anaconda3\\\\lib\\\\site-packages\\\\setuptools-27.2.0-py3.6.egg', 'C:\\\\ProgramData\\\\Anaconda3\\\\lib\\\\site-packages\\\\IPython\\\\extensions', 'C:\\\\Users\\\\dineshbabu.rengasamy\\\\.ipython', 'D:\\\\Data\\\\Dinesh\\\\Work\\\\revlon\\\\geckodriver-v0.19.1-win64', 'D:\\\\Data\\\\Dinesh\\\\Work\\\\revlon\\\\geckodriver-v0.19.1-win64', 'D:\\\\Data\\\\Dinesh\\\\Work\\\\revlon\\\\geckodriver-v0.19.1-win64', 'D:\\\\Data\\\\Dinesh\\\\Work\\\\revlon\\\\geckodriver-v0.19.1-win64', 'D:\\\\Data\\\\Dinesh\\\\Work\\\\revlon\\\\geckodriver-v0.19.1-win64', 'D:\\\\Data\\\\Dinesh\\\\Work\\\\revlon\\\\geckodriver-v0.19.1-win64', 'D:\\\\Data\\\\Dinesh\\\\Work\\\\revlon\\\\geckodriver-v0.19.1-win64', 'D:\\\\Data\\\\Dinesh\\\\Work\\\\revlon\\\\geckodriver-v0.19.1-win64', 'D:\\\\Data\\\\Dinesh\\\\Work\\\\revlon\\\\geckodriver-v0.19.1-win64', 'D:\\\\Data\\\\Dinesh\\\\Work\\\\revlon\\\\geckodriver-v0.19.1-win64', 'D:\\\\Data\\\\Dinesh\\\\Work\\\\revlon\\\\geckodriver-v0.19.1-win64', 'D:\\\\Data\\\\Dinesh\\\\Work\\\\revlon\\\\geckodriver-v0.19.1-win64', 'D:\\\\Data\\\\Dinesh\\\\Work\\\\revlon\\\\geckodriver-v0.19.1-win64', 'D:\\\\Data\\\\Dinesh\\\\Work\\\\revlon\\\\geckodriver-v0.19.1-win64', 'D:\\\\Data\\\\Dinesh\\\\Work\\\\revlon\\\\geckodriver-v0.19.1-win64', 'D:\\\\Data\\\\Dinesh\\\\Work\\\\revlon\\\\geckodriver-v0.19.1-win64', 'D:\\\\Data\\\\Dinesh\\\\Work\\\\revlon\\\\geckodriver-v0.19.1-win64', 'D:\\\\Data\\\\Dinesh\\\\Work\\\\revlon\\\\geckodriver-v0.19.1-win64', 'D:\\\\Data\\\\Dinesh\\\\Work\\\\revlon\\\\geckodriver-v0.19.1-win64']\n"
     ]
    },
    {
     "ename": "TypeError",
     "evalue": "append() takes exactly one argument (2 given)",
     "output_type": "error",
     "traceback": [
      "\u001b[0;31m---------------------------------------------------------------------------\u001b[0m",
      "\u001b[0;31mTypeError\u001b[0m                                 Traceback (most recent call last)",
      "\u001b[0;32m<ipython-input-103-398c43dacc5a>\u001b[0m in \u001b[0;36m<module>\u001b[0;34m()\u001b[0m\n\u001b[1;32m     23\u001b[0m \u001b[0mlist_elements\u001b[0m \u001b[1;33m=\u001b[0m \u001b[0mdriver\u001b[0m\u001b[1;33m.\u001b[0m\u001b[0mfind_elements_by_css_selector\u001b[0m\u001b[1;33m(\u001b[0m\u001b[1;34m\".ch13-list-lips a\"\u001b[0m\u001b[1;33m)\u001b[0m\u001b[1;33m\u001b[0m\u001b[0m\n\u001b[1;32m     24\u001b[0m \u001b[1;32mfor\u001b[0m \u001b[0me\u001b[0m \u001b[1;32min\u001b[0m \u001b[0mlist_elements\u001b[0m\u001b[1;33m:\u001b[0m\u001b[1;33m\u001b[0m\u001b[0m\n\u001b[0;32m---> 25\u001b[0;31m     \u001b[0mlinks\u001b[0m\u001b[1;33m[\u001b[0m\u001b[1;34m\"lips\"\u001b[0m\u001b[1;33m]\u001b[0m\u001b[1;33m.\u001b[0m\u001b[0mappend\u001b[0m\u001b[1;33m(\u001b[0m\u001b[0me\u001b[0m\u001b[1;33m.\u001b[0m\u001b[0mtext\u001b[0m\u001b[1;33m,\u001b[0m \u001b[0me\u001b[0m\u001b[1;33m.\u001b[0m\u001b[0mget_attribute\u001b[0m\u001b[1;33m(\u001b[0m\u001b[1;34m\"href\"\u001b[0m\u001b[1;33m)\u001b[0m\u001b[1;33m)\u001b[0m\u001b[1;33m\u001b[0m\u001b[0m\n\u001b[0m\u001b[1;32m     26\u001b[0m \u001b[0mprint\u001b[0m\u001b[1;33m(\u001b[0m\u001b[0mlinks\u001b[0m\u001b[1;33m)\u001b[0m\u001b[1;33m\u001b[0m\u001b[0m\n\u001b[1;32m     27\u001b[0m \u001b[1;31m# links = {\"face\": links[\"face\"][0]}\u001b[0m\u001b[1;33m\u001b[0m\u001b[1;33m\u001b[0m\u001b[0m\n",
      "\u001b[0;31mTypeError\u001b[0m: append() takes exactly one argument (2 given)"
     ]
    }
   ],
   "source": [
    "from selenium import webdriver\n",
    "from selenium.webdriver.common.keys import Keys\n",
    "import sys\n",
    "sys.path.append(\"D:\\\\Data\\\\Dinesh\\\\Work\\\\revlon\\\\geckodriver-v0.19.1-win64\")\n",
    "\n",
    "print(sys.path)\n",
    "\n",
    "driver = webdriver.Firefox(\"D:\\\\Data\\\\Dinesh\\\\Work\\\\revlon\\\\geckodriver-v0.19.1-win64\");\n",
    "driver.get(\"https://www.ulta.com\")\n",
    "\n",
    "time.sleep(5)\n",
    "\n",
    "links = {}\n",
    "links[\"face\"] = []\n",
    "links[\"eyes\"] = []\n",
    "links[\"lips\"] = []\n",
    "list_elements = driver.find_elements_by_css_selector(\".ch13-list-face a\")\n",
    "for e in list_elements:\n",
    "    links[\"face\"].append([e.text, e.get_attribute(\"href\")])\n",
    "list_elements = driver.find_elements_by_css_selector(\".ch13-list-eyes a\")\n",
    "for e in list_elements:\n",
    "    links[\"eyes\"].append([e.text, e.get_attribute(\"href\")])\n",
    "list_elements = driver.find_elements_by_css_selector(\".ch13-list-lips a\")\n",
    "for e in list_elements:\n",
    "    links[\"lips\"].append(e.text, e.get_attribute(\"href\"))\n",
    "print(links)\n",
    "# links = {\"face\": links[\"face\"][0]}"
   ]
  },
  {
   "cell_type": "code",
   "execution_count": null,
   "metadata": {
    "collapsed": false
   },
   "outputs": [
    {
     "name": "stdout",
     "output_type": "stream",
     "text": [
      "navigating to link  https://www.ulta.com/makeup-face?N=26y3\n",
      ",Double Duty Beauty Shape Tape Contour Concealer,110\n",
      "navigating to link  https://www.ulta.com/makeup-face-foundation?N=26y5\n"
     ]
    }
   ],
   "source": [
    "import time\n",
    "file_writer = open('D:\\\\Data\\\\Dinesh\\\\Work\\\\revlon\\\\comments.csv', 'w', encoding=\"utf-8\");\n",
    "from selenium.common.exceptions import StaleElementReferenceException\n",
    "import traceback\n",
    "\n",
    "try:\n",
    "    for key in links:\n",
    "        for link in links[key]:\n",
    "            print(\"navigating to link \", link[1])\n",
    "            driver.get(link[1] + \"&Ns=product.bestseller%7C1\");\n",
    "            product_elements = driver.find_elements_by_css_selector(\".productQvContainer a\");\n",
    "            product_elements = product_elements[0:1]\n",
    "            for product_element in product_elements:\n",
    "                product_link = product_element.get_attribute(\"href\")\n",
    "                driver.get(product_link)\n",
    "                product_name = driver.find_element_by_xpath(\"//h1[@itemprop='name']\").text\n",
    "                driver.find_element_by_xpath(\"//select[@id='pr-sort-reviews']/option[text()='Highest rating']\").click()\n",
    "                time.sleep(2)\n",
    "                comments_count = 0\n",
    "                comments = []\n",
    "                while comments_count<=100:\n",
    "                    comment_elements = driver.find_elements_by_css_selector(\".pr-comments\")\n",
    "                    next_page_element = driver.find_element_by_css_selector(\".pr-page-next\")\n",
    "                    for comment_element in comment_elements:\n",
    "                        # print(comment_element.text)\n",
    "                        file_writer.write(repr(str((link[0] + \",\" + product_name + \",\" + comment_element.text).encode('UTF-8'), 'utf-8')) + \"\\n\")\n",
    "                        comments.append(comment_element.text)\n",
    "                        comments_count = comments_count + 1\n",
    "                    if(next_page_element):\n",
    "                        next_page_element.click()\n",
    "                        time.sleep(2)\n",
    "                    else:\n",
    "                        break\n",
    "                print(str((link[0] + \",\" + product_name + \",\" + str(comments_count)).encode('UTF-8'), 'utf-8'))\n",
    "    file_writer.close()\n",
    "except StaleElementReferenceException:\n",
    "    traceback.print_exc()\n",
    "    pass"
   ]
  },
  {
   "cell_type": "code",
   "execution_count": null,
   "metadata": {
    "collapsed": true
   },
   "outputs": [],
   "source": []
  }
 ],
 "metadata": {
  "kernelspec": {
   "display_name": "Python 3",
   "language": "python",
   "name": "python3"
  },
  "language_info": {
   "codemirror_mode": {
    "name": "ipython",
    "version": 3
   },
   "file_extension": ".py",
   "mimetype": "text/x-python",
   "name": "python",
   "nbconvert_exporter": "python",
   "pygments_lexer": "ipython3",
   "version": "3.6.0"
  }
 },
 "nbformat": 4,
 "nbformat_minor": 2
}
